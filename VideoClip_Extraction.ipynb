{
 "cells": [
  {
   "cell_type": "code",
   "execution_count": 5,
   "metadata": {},
   "outputs": [
    {
     "name": "stdout",
     "output_type": "stream",
     "text": [
      "Processing completed. The output file is saved as: accelerometer_data_with_clips.csv\n"
     ]
    }
   ],
   "source": [
    "import pandas as pd\n",
    "from moviepy.video.io.VideoFileClip import VideoFileClip\n",
    "import os\n",
    "\n",
    "#Create a function to clip video. Duration (in seconds) determines the length of the clip.\n",
    "def clip_video(input_path, output_path, start_time, duration=2):\n",
    "    # Load the video\n",
    "    video = VideoFileClip(input_path)\n",
    "    \n",
    "    #Clip the video from start_time to start_time + duration\n",
    "    start_time_sec = start_time\n",
    "    end_time_sec = start_time_sec + duration\n",
    "    clipped_video = video.subclip(start_time_sec, end_time_sec)\n",
    "    fps = video.fps \n",
    "\n",
    "    #Write the clipped video to a file\n",
    "    clipped_video.write_videofile(output_path, codec='libx264', fps=fps, logger=None)\n",
    "    return output_path\n",
    "\n",
    "#Read the accelerometer data (CSV file)\n",
    "csv_file_path = 'GPSandAccelerationData_Combined.csv'\n",
    "df = pd.read_csv(csv_file_path)\n",
    "\n",
    "#Create a new folder for output videos\n",
    "output_folder = 'Video Clips'\n",
    "if not os.path.exists(output_folder):\n",
    "    os.makedirs(output_folder)\n",
    "\n",
    "#Create a new column 'Video Clip' to store the path of the clipped video\n",
    "df['Video Clip'] = ''\n",
    "\n",
    "#For Test Only, the dataframe is limited to first 5 rows.\n",
    "df = df.head(5) #Remove this line to run code on full dataset\n",
    "\n",
    "#Process each row in dataset\n",
    "for index, row in df.iterrows():\n",
    "    video_path = row['file_prefix']+\".mp4\" #Video Path\n",
    "    start_time = row['time_pts'] #time of event\n",
    "    \n",
    "    #Define the output path for the clipped video\n",
    "    base, ext = os.path.splitext(video_path)\n",
    "    output_path = os.path.join(output_folder, f\"{base}_clip_{index}.mp4\")\n",
    "    \n",
    "    #Clip the video and get the output path\n",
    "    clipped_video_path = clip_video(video_path, output_path, start_time)\n",
    "    \n",
    "    #Store the output path in the 'Video Clip' column\n",
    "    df.at[index, 'Clip'] = f'=HYPERLINK(\"{clipped_video_path}\", \"Link to Clip\")'\n",
    "\n",
    "# Save the updated DataFrame to a new CSV file\n",
    "output_csv_path = 'accelerometer_data_with_clips.csv'\n",
    "df.to_csv(output_csv_path, index=False)\n",
    "\n",
    "print(\"Processing completed. The output file is saved as:\", output_csv_path)\n"
   ]
  },
  {
   "cell_type": "code",
   "execution_count": null,
   "metadata": {},
   "outputs": [],
   "source": []
  }
 ],
 "metadata": {
  "interpreter": {
   "hash": "0d224d12ce71492d1a509ff5576e5747417c186eca876f1a895652f3dd64fe72"
  },
  "kernelspec": {
   "display_name": "Python 3.9.13 64-bit (windows store)",
   "language": "python",
   "name": "python3"
  },
  "language_info": {
   "codemirror_mode": {
    "name": "ipython",
    "version": 3
   },
   "file_extension": ".py",
   "mimetype": "text/x-python",
   "name": "python",
   "nbconvert_exporter": "python",
   "pygments_lexer": "ipython3",
   "version": "3.11.7"
  },
  "orig_nbformat": 4
 },
 "nbformat": 4,
 "nbformat_minor": 2
}
